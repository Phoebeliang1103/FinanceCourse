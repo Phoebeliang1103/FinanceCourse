{
 "cells": [
  {
   "cell_type": "code",
   "execution_count": 9,
   "id": "85615329-7e18-44ff-b2cd-f81f19d48f5b",
   "metadata": {},
   "outputs": [
    {
     "name": "stdin",
     "output_type": "stream",
     "text": [
      "n: 7\n"
     ]
    },
    {
     "name": "stdout",
     "output_type": "stream",
     "text": [
      "Fibonacci 數列為：\n",
      "1, 1, 2, 3, 5, 8, 13\n",
      "比值為：\n",
      "1.0, 0.5, 0.667, 0.6, 0.625, 0.615\n"
     ]
    }
   ],
   "source": [
    "def fibonacci(n):\n",
    "    fib = [1, 1]\n",
    "    for i in range(2, n):\n",
    "        fib.append(fib[i-1] + fib[i-2])\n",
    "\n",
    "    print(\"Fibonacci 數列為：\")\n",
    "    print(\", \".join(str(x) for x in fib[:n]))\n",
    "\n",
    "    print(\"比值為：\")\n",
    "    for i in range(1, n):\n",
    "        ratio = fib[i-1] / fib[i]\n",
    "        print(round(ratio, 3), end=\", \" if i < n-1 else \"\\n\")\n",
    "\n",
    "# 使用者輸入\n",
    "n = int(input(\"n:\"))\n",
    "fibonacci(n)\n"
   ]
  },
  {
   "cell_type": "code",
   "execution_count": null,
   "id": "7e8a7889-0c18-42ab-bc2a-efae40a81dc3",
   "metadata": {},
   "outputs": [],
   "source": []
  }
 ],
 "metadata": {
  "kernelspec": {
   "display_name": "Python [conda env:base] *",
   "language": "python",
   "name": "conda-base-py"
  },
  "language_info": {
   "codemirror_mode": {
    "name": "ipython",
    "version": 3
   },
   "file_extension": ".py",
   "mimetype": "text/x-python",
   "name": "python",
   "nbconvert_exporter": "python",
   "pygments_lexer": "ipython3",
   "version": "3.12.7"
  }
 },
 "nbformat": 4,
 "nbformat_minor": 5
}
