{
 "cells": [
  {
   "cell_type": "code",
   "execution_count": 43,
   "id": "90e971b0-3acd-48a8-94e2-2392b9faba82",
   "metadata": {},
   "outputs": [
    {
     "data": {
      "text/plain": [
       "27"
      ]
     },
     "execution_count": 43,
     "metadata": {},
     "output_type": "execute_result"
    }
   ],
   "source": [
    "x=0o11\n",
    "x*3"
   ]
  },
  {
   "cell_type": "code",
   "execution_count": 45,
   "id": "4683b66c-ee52-46be-bde3-648c3efddde2",
   "metadata": {},
   "outputs": [
    {
     "data": {
      "text/plain": [
       "561"
      ]
     },
     "execution_count": 45,
     "metadata": {},
     "output_type": "execute_result"
    }
   ],
   "source": [
    "AA=0xAA\n",
    "BB=0xBB\n",
    "CC=0xCC\n",
    "AA+BB+CC"
   ]
  },
  {
   "cell_type": "code",
   "execution_count": 49,
   "id": "7dd54993-e6d4-4caa-a5d7-c48bc1a9b4b4",
   "metadata": {},
   "outputs": [
    {
     "name": "stderr",
     "output_type": "stream",
     "text": [
      "[*********************100%***********************]  1 of 1 completed\n"
     ]
    },
    {
     "name": "stdout",
     "output_type": "stream",
     "text": [
      "Price            Close        High         Low        Open    Volume\n",
      "Ticker         2317.TW     2317.TW     2317.TW     2317.TW   2317.TW\n",
      "Date                                                                \n",
      "2020-01-02   73.664803   74.232701   73.259159   73.827057  20758722\n",
      "2020-01-03   74.313835   74.800606   73.664810   74.151580  37936877\n",
      "2020-01-06   73.421417   73.908188   73.096901   73.908188  26352522\n",
      "2020-01-07   72.285622   73.827067   71.636596   73.421424  42728140\n",
      "2020-01-08   70.176285   71.474342   70.176285   71.312087  56101121\n",
      "...                ...         ...         ...         ...       ...\n",
      "2025-03-21  165.000000  167.000000  165.000000  167.000000  44208163\n",
      "2025-03-24  163.000000  167.000000  163.000000  166.500000  40731359\n",
      "2025-03-25  165.000000  166.500000  164.000000  165.500000  32238564\n",
      "2025-03-26  166.000000  167.000000  165.000000  166.000000  18157417\n",
      "2025-03-27  160.500000  164.000000  160.000000  163.500000  68237402\n",
      "\n",
      "[1268 rows x 5 columns]\n"
     ]
    }
   ],
   "source": [
    "import yfinance as yf\n",
    "df=yf.download(\"2317.TW\",\"2020-01-01\")\n",
    "df.to_excel('yahoo_2317TW.xlsx')\n",
    "print(df)"
   ]
  },
  {
   "cell_type": "code",
   "execution_count": 51,
   "id": "d52d4705-3c50-44a8-900c-8accbe770635",
   "metadata": {},
   "outputs": [
    {
     "name": "stderr",
     "output_type": "stream",
     "text": [
      "[*********************100%***********************]  1 of 1 completed\n"
     ]
    },
    {
     "name": "stdout",
     "output_type": "stream",
     "text": [
      "Price           Close       High        Low       Open    Volume\n",
      "Ticker        2353.TW    2353.TW    2353.TW    2353.TW   2353.TW\n",
      "Date                                                            \n",
      "2020-01-02  12.908957  13.017742  12.908957  12.981480   5383237\n",
      "2020-01-03  12.981481  13.054003  12.872698  12.981481   7256023\n",
      "2020-01-06  12.800173  12.945218  12.763912  12.908956   7615770\n",
      "2020-01-07  12.727652  12.908957  12.727652  12.800174   5708642\n",
      "2020-01-08  12.655130  12.727652  12.618868  12.691391   7981411\n",
      "...               ...        ...        ...        ...       ...\n",
      "2025-03-21  38.299999  38.799999  38.000000  38.799999  16748114\n",
      "2025-03-24  37.750000  38.299999  37.750000  38.299999   9326635\n",
      "2025-03-25  37.750000  38.299999  37.700001  38.200001   8804512\n",
      "2025-03-26  38.150002  38.200001  37.799999  38.000000   9389736\n",
      "2025-03-27  37.950001  37.950001  37.650002  37.900002   7112132\n",
      "\n",
      "[1268 rows x 5 columns]\n"
     ]
    }
   ],
   "source": [
    "import yfinance as yf\n",
    "df=yf.download(\"2353.TW\",\"2020-01-01\")\n",
    "df.to_excel('yahoo_2353TW.xlsx')\n",
    "print(df)"
   ]
  },
  {
   "cell_type": "code",
   "execution_count": 33,
   "id": "793c1455-a72b-467b-b145-09d04dd20745",
   "metadata": {},
   "outputs": [],
   "source": [
    "p=range(1,8,2)"
   ]
  },
  {
   "cell_type": "code",
   "execution_count": 53,
   "id": "9e398fec-cf72-4470-8a60-3ec9dfac1a61",
   "metadata": {},
   "outputs": [
    {
     "name": "stdout",
     "output_type": "stream",
     "text": [
      "Requirement already satisfied: ucimlrepo in c:\\users\\phoeb\\anaconda3\\lib\\site-packages (0.0.7)\n",
      "Requirement already satisfied: pandas>=1.0.0 in c:\\users\\phoeb\\anaconda3\\lib\\site-packages (from ucimlrepo) (2.2.2)\n",
      "Requirement already satisfied: certifi>=2020.12.5 in c:\\users\\phoeb\\anaconda3\\lib\\site-packages (from ucimlrepo) (2025.1.31)\n",
      "Requirement already satisfied: numpy>=1.26.0 in c:\\users\\phoeb\\anaconda3\\lib\\site-packages (from pandas>=1.0.0->ucimlrepo) (1.26.4)\n",
      "Requirement already satisfied: python-dateutil>=2.8.2 in c:\\users\\phoeb\\anaconda3\\lib\\site-packages (from pandas>=1.0.0->ucimlrepo) (2.9.0.post0)\n",
      "Requirement already satisfied: pytz>=2020.1 in c:\\users\\phoeb\\anaconda3\\lib\\site-packages (from pandas>=1.0.0->ucimlrepo) (2024.1)\n",
      "Requirement already satisfied: tzdata>=2022.7 in c:\\users\\phoeb\\anaconda3\\lib\\site-packages (from pandas>=1.0.0->ucimlrepo) (2023.3)\n",
      "Requirement already satisfied: six>=1.5 in c:\\users\\phoeb\\anaconda3\\lib\\site-packages (from python-dateutil>=2.8.2->pandas>=1.0.0->ucimlrepo) (1.16.0)\n"
     ]
    }
   ],
   "source": [
    "!pip install ucimlrepo"
   ]
  },
  {
   "cell_type": "code",
   "execution_count": 1,
   "id": "076152b6-0278-4495-bdbe-16812316ac98",
   "metadata": {},
   "outputs": [
    {
     "name": "stdout",
     "output_type": "stream",
     "text": [
      "{'uci_id': 53, 'name': 'Iris', 'repository_url': 'https://archive.ics.uci.edu/dataset/53/iris', 'data_url': 'https://archive.ics.uci.edu/static/public/53/data.csv', 'abstract': 'A small classic dataset from Fisher, 1936. One of the earliest known datasets used for evaluating classification methods.\\n', 'area': 'Biology', 'tasks': ['Classification'], 'characteristics': ['Tabular'], 'num_instances': 150, 'num_features': 4, 'feature_types': ['Real'], 'demographics': [], 'target_col': ['class'], 'index_col': None, 'has_missing_values': 'no', 'missing_values_symbol': None, 'year_of_dataset_creation': 1936, 'last_updated': 'Tue Sep 12 2023', 'dataset_doi': '10.24432/C56C76', 'creators': ['R. A. Fisher'], 'intro_paper': {'ID': 191, 'type': 'NATIVE', 'title': 'The Iris data set: In search of the source of virginica', 'authors': 'A. Unwin, K. Kleinman', 'venue': 'Significance, 2021', 'year': 2021, 'journal': 'Significance, 2021', 'DOI': '1740-9713.01589', 'URL': 'https://www.semanticscholar.org/paper/4599862ea877863669a6a8e63a3c707a787d5d7e', 'sha': None, 'corpus': None, 'arxiv': None, 'mag': None, 'acl': None, 'pmid': None, 'pmcid': None}, 'additional_info': {'summary': 'This is one of the earliest datasets used in the literature on classification methods and widely used in statistics and machine learning.  The data set contains 3 classes of 50 instances each, where each class refers to a type of iris plant.  One class is linearly separable from the other 2; the latter are not linearly separable from each other.\\n\\nPredicted attribute: class of iris plant.\\n\\nThis is an exceedingly simple domain.\\n\\nThis data differs from the data presented in Fishers article (identified by Steve Chadwick,  spchadwick@espeedaz.net ).  The 35th sample should be: 4.9,3.1,1.5,0.2,\"Iris-setosa\" where the error is in the fourth feature. The 38th sample: 4.9,3.6,1.4,0.1,\"Iris-setosa\" where the errors are in the second and third features.  ', 'purpose': 'N/A', 'funded_by': None, 'instances_represent': 'Each instance is a plant', 'recommended_data_splits': None, 'sensitive_data': None, 'preprocessing_description': None, 'variable_info': None, 'citation': None}}\n",
      "           name     role         type demographic  \\\n",
      "0  sepal length  Feature   Continuous        None   \n",
      "1   sepal width  Feature   Continuous        None   \n",
      "2  petal length  Feature   Continuous        None   \n",
      "3   petal width  Feature   Continuous        None   \n",
      "4         class   Target  Categorical        None   \n",
      "\n",
      "                                         description units missing_values  \n",
      "0                                               None    cm             no  \n",
      "1                                               None    cm             no  \n",
      "2                                               None    cm             no  \n",
      "3                                               None    cm             no  \n",
      "4  class of iris plant: Iris Setosa, Iris Versico...  None             no  \n"
     ]
    }
   ],
   "source": [
    "from ucimlrepo import fetch_ucirepo \n",
    "# fetch dataset \n",
    "iris = fetch_ucirepo(id=53) \n",
    "# data (as pandas dataframes) \n",
    "X = iris.data.features \n",
    "y = iris.data.targets \n",
    "# metadata \n",
    "print(iris.metadata) \n",
    "# variable information \n",
    "print(iris.variables) "
   ]
  },
  {
   "cell_type": "code",
   "execution_count": null,
   "id": "0620c0d4-6802-47af-a41e-b4f7607a6c82",
   "metadata": {},
   "outputs": [],
   "source": []
  }
 ],
 "metadata": {
  "kernelspec": {
   "display_name": "Python [conda env:base] *",
   "language": "python",
   "name": "conda-base-py"
  },
  "language_info": {
   "codemirror_mode": {
    "name": "ipython",
    "version": 3
   },
   "file_extension": ".py",
   "mimetype": "text/x-python",
   "name": "python",
   "nbconvert_exporter": "python",
   "pygments_lexer": "ipython3",
   "version": "3.12.7"
  }
 },
 "nbformat": 4,
 "nbformat_minor": 5
}
